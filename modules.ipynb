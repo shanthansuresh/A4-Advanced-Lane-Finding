{
 "cells": [
  {
   "cell_type": "code",
   "execution_count": 1,
   "metadata": {
    "collapsed": true,
    "deletable": true,
    "editable": true
   },
   "outputs": [],
   "source": [
    "#Imports\n",
    "import numpy as np\n",
    "import cv2\n",
    "import glob\n",
    "import matplotlib.pyplot as plt\n",
    "#%matplotlib qt\n",
    "%matplotlib inline\n",
    "import matplotlib.image as mpimg\n",
    "import pickle\n",
    "#%matplotlib inline\n",
    "import scipy.ndimage\n",
    "from scipy.signal import find_peaks_cwt\n",
    "\n",
    "DEBUG = 1"
   ]
  },
  {
   "cell_type": "code",
   "execution_count": 2,
   "metadata": {
    "collapsed": true,
    "deletable": true,
    "editable": true
   },
   "outputs": [],
   "source": [
    "#Define Constants\n",
    "NUM_COLS = 9\n",
    "NUM_ROWS = 6\n",
    "\n",
    "CHESSBOARD_IMG_WIDTH = 1280\n",
    "CHESSBOARD_IMG_HEIGHT = 720\n",
    "\n",
    "\"\"\"\n",
    "    Note: These values are obtained from the straight lane\n",
    "    lines in test_images/straight_lines1.jpg\n",
    "\"\"\"\n",
    "SRC_BOTTOM_LEFT  =  [220, 710]\n",
    "SRC_TOP_LEFT     =  [593, 455]\n",
    "SRC_TOP_RIGHT    =  [694, 455]\n",
    "SRC_BOTTOM_RIGHT =  [1084, 710]\n",
    "\n",
    "DST_BOTTOM_LEFT  = [340, 710]\n",
    "DST_TOP_LEFT     = [340, 0]\n",
    "DST_TOP_RIGHT    = [910, 0]\n",
    "DST_BOTTOM_RIGHT = [910, 710]\n",
    "\n",
    "WINDOW_SIZE = 50\n",
    "NUM_PATCHES = 10\n",
    "\n",
    "\"\"\" \n",
    "    According to standards, the image should cover \n",
    "    30meters along the road and 3.7meters along the width.\n",
    "\"\"\"\n",
    "HEIGHT_IN_MTS = 30\n",
    "WIDTH_IN_MTS = 3.7\n",
    "\n",
    "#Mininum number of points for fitting the polynomial curve.\n",
    "MIN_POINTS = 5\n",
    "\n",
    "#Threshold for difference of coefficient values, between successive frames. \n",
    "COEFFS_DIFFS = 0.0005\n",
    "\n",
    "calc_calib_params = 0\n",
    "\n",
    "#Change in contour\n",
    "SHAPE_THRESH = 0.05"
   ]
  },
  {
   "cell_type": "code",
   "execution_count": 3,
   "metadata": {
    "collapsed": true
   },
   "outputs": [],
   "source": [
    "\"\"\"\n",
    "    Define image names for unit testing\n",
    "\"\"\"\n",
    "chess_img_file = 'test_cam_img.jpg'\n",
    "#img_files = ['test_images/straight_lines1.jpg']\n",
    "img_files = ['./debug/v1-new/frame599.jpg']"
   ]
  },
  {
   "cell_type": "code",
   "execution_count": 4,
   "metadata": {
    "collapsed": false,
    "deletable": true,
    "editable": true
   },
   "outputs": [],
   "source": [
    "\"\"\"\n",
    "   STEP 1: COMPUTATION OF CAMERA CALIBRATION MATRIX AND DISTORTION COEFFICIENTS\n",
    "           UNDISTORT THE IMAGES\n",
    "\"\"\"\n",
    "\n",
    "\"\"\"\n",
    "   Get the object points and image points of the chessboard inner\n",
    "   corners, using the chessboard calibration images. These points\n",
    "   are used for calculating the distortion coefficients of the\n",
    "   camera.\n",
    "\"\"\"\n",
    "def get_obj_img_points():\n",
    "    # Arrays to store object points and image points from all the images.\n",
    "    objpoints = [] # 3d points in real world space\n",
    "    imgpoints = [] # 2d points in image plane.\n",
    "    \n",
    "    # prepare object points, like (0,0,0), (1,0,0), (2,0,0) ....,(6,5,0)\n",
    "    objp = np.zeros((NUM_ROWS*NUM_COLS,3), np.float32)\n",
    "    objp[:,:2] = np.mgrid[0:NUM_COLS, 0:NUM_ROWS].T.reshape(-1,2)\n",
    "\n",
    "    # Make a list of calibration images\n",
    "    images = glob.glob('camera_cal/calibration*.jpg')\n",
    "    \n",
    "    for idx, fname in enumerate(images):\n",
    "        img = cv2.imread(fname)\n",
    "        gray = cv2.cvtColor(img, cv2.COLOR_BGR2GRAY)\n",
    "        \n",
    "        img_size = (img.shape[1], img.shape[0])\n",
    "                      \n",
    "        img_orig = np.copy(img)\n",
    "       \n",
    "        # Find the chessboard corners\n",
    "        ret, corners = cv2.findChessboardCorners(gray, (NUM_COLS,NUM_ROWS), None)\n",
    "\n",
    "        # If found, add object points, image points\n",
    "        if ret == True:\n",
    "            objpoints.append(objp)\n",
    "            imgpoints.append(corners)       \n",
    "        \n",
    "    return objpoints, imgpoints\n",
    "    \n",
    "    \n",
    "\"\"\"\n",
    "   Calculate the camera calibration parameters,\n",
    "   namely, distortion coefficients, projection\n",
    "   matrix.\n",
    "\"\"\"\n",
    "def calculate_cam_calib_params(objpoints, imgpoints):\n",
    "    img_size = (CHESSBOARD_IMG_WIDTH, CHESSBOARD_IMG_HEIGHT)\n",
    "    # Do camera calibration given object points and image points\n",
    "    ret, mtx, dist, rvecs, tvecs = cv2.calibrateCamera(objpoints,\n",
    "                                                       imgpoints,\n",
    "                                                       img_size,\n",
    "                                                       None,None)\n",
    "    \n",
    "    return ret, mtx, dist, rvecs, tvecs   \n",
    "\n",
    "\"\"\"\n",
    "    Fetch the camera calibration parameters, calcluated in\n",
    "    calculate_cam_calib_params() and stored in CalibrationParams.p\n",
    "\"\"\"\n",
    "def fetch_cam_calib_params():\n",
    "    print('Loading data from pickle file...')\n",
    "    try:\n",
    "        data_file = 'CalibrationParams.p'\n",
    "        with open(data_file, mode='rb') as f:\n",
    "            data = pickle.load(f)\n",
    "        mtx  = data['mtx'] \n",
    "        dist = data['dist']\n",
    "    except Exception as e:\n",
    "        print('Unable to save data to', data_file, ':', e)\n",
    "        raise\n",
    "    print('Data loaded from pickle file.')   \n",
    "    \n",
    "    return mtx, dist        "
   ]
  },
  {
   "cell_type": "code",
   "execution_count": 5,
   "metadata": {
    "collapsed": false
   },
   "outputs": [],
   "source": [
    "\"\"\"\n",
    "    Calculate Camera Calibration parameters and store them in \n",
    "    a pickle file\n",
    "\"\"\"\n",
    "if (calc_calib_params == 1):\n",
    "    objpoints, imgpoints = get_obj_img_points()\n",
    "    ret, mtx, dist, rvecs, tvecs = calculate_cam_calib_params(objpoints, imgpoints)\n",
    "    \n",
    "    pickle_file = 'CalibrationParams.p'\n",
    "    print('Saving data to pickle file...')\n",
    "    try:\n",
    "        with open(pickle_file, 'wb') as pfile:\n",
    "            pickle.dump(\n",
    "                {   'mtx' : mtx, \n",
    "                    'dist': dist\n",
    "                },\n",
    "            pfile, pickle.HIGHEST_PROTOCOL)\n",
    "    except Exception as e:\n",
    "        print('Unable to save data to', pickle_file, ':', e)\n",
    "        raise\n",
    "    print('Data cached in pickle file.')"
   ]
  },
  {
   "cell_type": "code",
   "execution_count": 6,
   "metadata": {
    "collapsed": true
   },
   "outputs": [],
   "source": [
    "\"\"\"\n",
    "    STEP 2: UNDISTORT THE ORIGINAL IMAGE.\n",
    "\"\"\"\n",
    "\n",
    "\"\"\"\n",
    "    Use the camera distortion coefficients calculated\n",
    "    in the previous step to undistort the inage.\n",
    "\"\"\"\n",
    "def undistort_img(mtx, dist, img):   \n",
    "    dst = cv2.undistort(img, mtx, dist, None, mtx)\n",
    "    #cv2.imwrite('test_undist.jpg',dst)\n",
    "    \n",
    "    return dst"
   ]
  },
  {
   "cell_type": "code",
   "execution_count": null,
   "metadata": {
    "collapsed": false,
    "deletable": true,
    "editable": true
   },
   "outputs": [],
   "source": [
    "\"\"\"\n",
    "    PIPELINE_1 consists of camera calibration followed by undistortion\n",
    "\"\"\"\n",
    "\n",
    "def pipeline_1(img):\n",
    "    print('pipeline_1 start')\n",
    "        \n",
    "    mtx, dist = fetch_cam_calib_params()\n",
    "    undist_img = undistort_img(mtx, dist, img)\n",
    "    print('pipeline_1 complete')\n",
    "    \n",
    "    return undist_img  "
   ]
  },
  {
   "cell_type": "code",
   "execution_count": null,
   "metadata": {
    "collapsed": false,
    "deletable": true,
    "editable": true
   },
   "outputs": [],
   "source": [
    "\"\"\"\n",
    "    Test pipeline_1 function\n",
    "\"\"\"\n",
    "\n",
    "img = mpimg.imread(chess_img_file) \n",
    "result = pipeline_1(img)\n",
    "\n",
    "#Display the images\n",
    "f, (ax1, ax2) = plt.subplots(1, 2, figsize=(24, 9))\n",
    "f.tight_layout()\n",
    "\n",
    "\n",
    "ax1.imshow(img)\n",
    "ax1.set_title('Original Image', fontsize=40)\n",
    "\n",
    "ax2.imshow(result)\n",
    "ax2.set_title('Undistorted Image', fontsize=40)"
   ]
  },
  {
   "cell_type": "code",
   "execution_count": 7,
   "metadata": {
    "collapsed": true,
    "deletable": true,
    "editable": true
   },
   "outputs": [],
   "source": [
    "\"\"\"\n",
    "    STEP 3: CREATE A BINARY THRESHOLD IMAGE BASED ON GRADIENTS AND COLORS.\n",
    "            #Note: This function assumes imagefile is read using cv2.imread()\n",
    "\"\"\"\n",
    "\n",
    "\"\"\"\n",
    "    Pass the image through gradient and color filters.\n",
    "    After this apply threshold on the filtered image,\n",
    "    to obtain a binary image.\n",
    "\"\"\"\n",
    "def threshold_image(img, s_thresh=(90, 255), r_thresh=(180, 255), sx_thresh=(50, 225)):\n",
    "    #Create a copy of the image\n",
    "    img_copy = np.copy(img)\n",
    "    \n",
    "    # Convert to HSV color space and separate the V channel\n",
    "    hls = cv2.cvtColor(img_copy, cv2.COLOR_RGB2HLS).astype(np.float)\n",
    "    l_channel = hls[:,:,1]\n",
    "    s_channel = hls[:,:,2]\n",
    "    \n",
    "    # Sobel along x direction\n",
    "    sobelx = cv2.Sobel(s_channel, cv2.CV_64F, 1, 0) # Take the derivative in x\n",
    "    abs_sobelx = np.absolute(sobelx) # Absolute x derivative to accentuate lines away from horizontal\n",
    "    scaled_sobel = np.uint8(255*abs_sobelx/np.max(abs_sobelx))\n",
    "    \n",
    "    # Threshold x gradient\n",
    "    sxbinary = np.zeros_like(scaled_sobel)\n",
    "    sxbinary[(scaled_sobel >= sx_thresh[0]) & (scaled_sobel <= sx_thresh[1])] = 1\n",
    "    \n",
    "    # Threshold color channel\n",
    "    s_binary = np.zeros_like(s_channel)\n",
    "    s_binary[(s_channel >= s_thresh[0]) & (s_channel <= s_thresh[1])] = 1\n",
    "    \n",
    "    r_channel = img_copy[:,:,0]\n",
    "    r_binary = np.zeros_like(r_channel)\n",
    "    r_binary[(r_channel >= r_thresh[0]) & (r_channel <= r_thresh[1])] = 1\n",
    "    \n",
    "    col_binary = np.zeros_like(s_channel)\n",
    "    col_binary[(s_binary == 1) | (r_binary == 1)] = 1\n",
    "        \n",
    "    # Combine the two binary thresholds\n",
    "    combined_binary = np.zeros_like(sxbinary)\n",
    "    combined_binary[(s_binary == 1) | (sxbinary == 1)] = 1\n",
    "    \n",
    "    return combined_binary\n",
    "    "
   ]
  },
  {
   "cell_type": "code",
   "execution_count": null,
   "metadata": {
    "collapsed": false,
    "deletable": true,
    "editable": true
   },
   "outputs": [],
   "source": [
    "\"\"\"\n",
    "    Test threshold image\n",
    "\"\"\"\n",
    "\n",
    "for img_file in img_files:\n",
    "    img = mpimg.imread(img_file) \n",
    "    result = threshold_image(img)\n",
    "\n",
    "    #Display the images\n",
    "    f, (ax1, ax2) = plt.subplots(1, 2, figsize=(24, 9))\n",
    "    f.tight_layout()\n",
    "\n",
    "    ax1.imshow(img)\n",
    "    ax1.set_title('Original Image', fontsize=40)\n",
    "\n",
    "    ax2.imshow(result, cmap='gray')\n",
    "    ax2.set_title('Threshold image Result', fontsize=40)"
   ]
  },
  {
   "cell_type": "code",
   "execution_count": null,
   "metadata": {
    "collapsed": true,
    "deletable": true,
    "editable": true
   },
   "outputs": [],
   "source": [
    "\"\"\"\n",
    "    PIPELINE_2 consists of camera calibration -> undistortion -> Binary_Threshold\n",
    "\"\"\"\n",
    "\n",
    "def pipeline_2(img):\n",
    "    mtx, dist = fetch_cam_calib_params()\n",
    "    undist_img = undistort_img(mtx, dist, img)\n",
    "    result = threshold_image(undist_img)\n",
    "    plt.imsave('thresh_img.jpg', result, cmap=plt.cm.gray)\n",
    "    \n",
    "    return result\n",
    "    "
   ]
  },
  {
   "cell_type": "code",
   "execution_count": null,
   "metadata": {
    "collapsed": false,
    "deletable": true,
    "editable": true
   },
   "outputs": [],
   "source": [
    "\"\"\"\n",
    "    Call pipeline_2 function\n",
    "\"\"\"\n",
    "for img_file in img_files:\n",
    "    img = mpimg.imread(img_file) \n",
    "    result = pipeline_2(img)\n",
    "\n",
    "    #Display the images\n",
    "    f, (ax1, ax2) = plt.subplots(1, 2, figsize=(24, 9))\n",
    "    f.tight_layout()\n",
    "    ax1.imshow(img)\n",
    "    ax1.set_title('Original Image', fontsize=40)  \n",
    "    ax2.imshow(result, cmap='gray')\n",
    "    ax2.set_title('Pipeline_2 Result', fontsize=40)"
   ]
  },
  {
   "cell_type": "code",
   "execution_count": 8,
   "metadata": {
    "collapsed": true,
    "deletable": true,
    "editable": true
   },
   "outputs": [],
   "source": [
    "\"\"\"\n",
    "    STEP 4: APPLY REGION OF INTEREST(ROI) MASK.\n",
    "\"\"\"\n",
    "\n",
    "\"\"\"\n",
    "    In this step the bottom half of the image is retained,\n",
    "    since the lower half of the image contains the lane details.\n",
    "    We choose a triangle for the ROI mask.\n",
    "\"\"\"\n",
    "def region_of_interest(img):\n",
    "    \"\"\"\n",
    "    Applies an image mask.\n",
    "    \n",
    "    Only keeps the region of the image defined by the polygon\n",
    "    formed from `vertices`. The rest of the image is set to black.\n",
    "    \"\"\"\n",
    "    #Choose the region of interest\n",
    "    width, height = (img.shape[1], img.shape[0])\n",
    "    xOffset = 0.05 * width\n",
    "    yOffset = 0.05 * height\n",
    "       \n",
    "    vertices = np.array([[(xOffset,height),((width>>1), (height>>1)+yOffset),\n",
    "                      ((width>>1), (height>>1)+yOffset) , \n",
    "                      ((width-xOffset),height)]], dtype=np.int32)\n",
    "    \n",
    "    #defining a blank mask to start with\n",
    "    mask = np.zeros_like(img)   \n",
    "    \n",
    "    #defining a 3 channel or 1 channel color to fill the mask with depending on the input image\n",
    "    if len(img.shape) > 2:\n",
    "        channel_count = img.shape[2]  # i.e. 3 or 4 depending on your image\n",
    "        ignore_mask_color = (255,) * channel_count\n",
    "    else:\n",
    "        ignore_mask_color = 255\n",
    "        \n",
    "    #filling pixels inside the polygon defined by \"vertices\" with the fill color    \n",
    "    cv2.fillPoly(mask, vertices, ignore_mask_color)\n",
    "    \n",
    "    #returning the image only where mask pixels are nonzero\n",
    "    masked_image = cv2.bitwise_and(img, mask)\n",
    "    \n",
    "    return masked_image"
   ]
  },
  {
   "cell_type": "code",
   "execution_count": null,
   "metadata": {
    "collapsed": false,
    "deletable": true,
    "editable": true
   },
   "outputs": [],
   "source": [
    "\"\"\"\n",
    "    Test region of interest\n",
    "\"\"\"\n",
    "\n",
    "for img_file in img_files:\n",
    "    img = mpimg.imread(img_file) \n",
    "    \n",
    "    result = region_of_interest(img)\n",
    "    \n",
    "    #Display the images\n",
    "    f, (ax1, ax2) = plt.subplots(1, 2, figsize=(24, 9))\n",
    "    f.tight_layout()\n",
    "    ax1.imshow(img)\n",
    "    ax1.set_title('Original Image', fontsize=40)\n",
    "    ax2.imshow(result, cmap='gray')\n",
    "    ax2.set_title('ROI Result', fontsize=40)"
   ]
  },
  {
   "cell_type": "code",
   "execution_count": 9,
   "metadata": {
    "collapsed": true,
    "deletable": true,
    "editable": true
   },
   "outputs": [],
   "source": [
    "\"\"\"\n",
    "    STEP 5: APPLY PERSPECTIVE TRANSFORM TO OBTAIN THE BIRD'S EYE VIEW OF THE IMAGE.\n",
    "\"\"\"\n",
    "\n",
    "\"\"\"\n",
    "    Get the perspective cordinate points for src and dst.\n",
    "    Note: This function is a fix to address the issue that earlier\n",
    "          we used to hardcode the cordinate points. Now we make\n",
    "          the cordinates functions of the image dimension.\n",
    "\"\"\"\n",
    "def get_perspective_cordinate_points(img_size):\n",
    "    hortop_window = np.uint(img_size[0]/1.5)\n",
    "    horbot_window = np.uint(img_size[0])\n",
    "    c_window = np.uint(img_size[1]/2)\n",
    "    ctl_window = c_window - .25*np.uint(img_size[1]/2)\n",
    "    ctr_window = c_window + .25*np.uint(img_size[1]/2)\n",
    "    cbl_window = c_window - 1*np.uint(img_size[1]/2)\n",
    "    cbr_window = c_window + 1*np.uint(img_size[1]/2)\n",
    "            \n",
    "    src = [[cbl_window,horbot_window],[cbr_window,horbot_window],\n",
    "                      [ctr_window,hortop_window],[ctl_window,hortop_window]]\n",
    "    dst = [[0,img_size[0]],[img_size[1],img_size[0]],\n",
    "                      [img_size[1],0],[0,0]]\n",
    "    \n",
    "    return src, dst\n",
    "\n",
    "\"\"\"\n",
    "    This functions gets the perspective transformation \n",
    "    matrix (and its inverse), for the given set of \n",
    "    source and destination points.\n",
    "    #Note: This function assumes imagefile is read using cv2.imread()\n",
    "\"\"\"\n",
    "def get_perspective_transform(src_points, dst_points):\n",
    "    src = np.float32([src_points[0], src_points[1], src_points[2], src_points[3]])\n",
    "    dst = np.float32([dst_points[0], dst_points[1], dst_points[2], dst_points[3]])\n",
    "    \n",
    "    M = cv2.getPerspectiveTransform(src, dst)\n",
    "    Minv = cv2.getPerspectiveTransform(dst, src)\n",
    "    \n",
    "    return M, Minv\n",
    "\n",
    "\"\"\"\n",
    "    This function applies the perspective transformation, M,\n",
    "    on the image, img.\n",
    "\"\"\"\n",
    "def apply_perspective_transform(M, img):\n",
    "    img_size = (img.shape[1], img.shape[0])\n",
    "    warped = cv2.warpPerspective(img, M, img_size, flags=cv2.INTER_LINEAR)\n",
    "            \n",
    "    return warped"
   ]
  },
  {
   "cell_type": "code",
   "execution_count": null,
   "metadata": {
    "collapsed": false,
    "deletable": true,
    "editable": true
   },
   "outputs": [],
   "source": [
    "def test_perspective(img):  \n",
    "    img_size = img.shape\n",
    "    src_points, dst_points = get_perspective_cordinate_points(img_size)\n",
    "    M, Minv = get_perspective_transform(src_points, dst_points)\n",
    "    result = apply_perspective_transform(M, img)\n",
    "        \n",
    "    return result    "
   ]
  },
  {
   "cell_type": "code",
   "execution_count": null,
   "metadata": {
    "collapsed": false,
    "deletable": true,
    "editable": true
   },
   "outputs": [],
   "source": [
    "\"\"\"\n",
    "    Test perspective transform\n",
    "\"\"\"\n",
    "for img_file in img_files:\n",
    "    img = mpimg.imread(img_file)\n",
    "    img_size = img.shape\n",
    "    \n",
    "    src_points, dst_points = get_perspective_cordinate_points(img_size)\n",
    "\n",
    "    corner_points=[]\n",
    "    for i,c in enumerate(src_points):\n",
    "        x0 = int(src_points[i][0])\n",
    "        y0 = int(src_points[i][1])\n",
    "        pt0 = [x0, y0]\n",
    "        corner_points.append(tuple(pt0))      \n",
    "\n",
    "    cv2.line(img, corner_points[0], corner_points[1], color=[255,0,0], thickness=1)\n",
    "    cv2.line(img, corner_points[1], corner_points[2], color=[255,0,0], thickness=1)\n",
    "    cv2.line(img, corner_points[2], corner_points[3], color=[255,0,0], thickness=1)\n",
    "    cv2.line(img, corner_points[3], corner_points[0], color=[255,0,0], thickness=1)\n",
    "\n",
    "    result = test_perspective(img)\n",
    "\n",
    "    #Display the images\n",
    "    f, (ax1, ax2) = plt.subplots(1, 2, figsize=(24, 9))\n",
    "    f.tight_layout()\n",
    "\n",
    "    ax1.imshow(img)\n",
    "    ax1.set_title('Original Image', fontsize=40)    \n",
    "    ax2.imshow(result) \n",
    "    ax2.set_title('Perspective Transform Result', fontsize=40)"
   ]
  },
  {
   "cell_type": "code",
   "execution_count": null,
   "metadata": {
    "collapsed": true,
    "deletable": true,
    "editable": true
   },
   "outputs": [],
   "source": [
    "\"\"\"\n",
    "    PIPELINE_3 consists of camera calibration -> undistortion -> Binary_Threshold -> ROI ->Perspective_transform\n",
    "\"\"\"\n",
    "\n",
    "def pipeline_3(img):\n",
    "    img_size = img.shape\n",
    "    mtx, dist = fetch_cam_calib_params()\n",
    "    result_1 = undistort_img(mtx, dist, img)\n",
    "    result_2 = threshold_image(result_1, s_thresh=(200, 255))\n",
    "    result_3 = region_of_interest(result_2)\n",
    "    src_points, dst_points = get_perspective_cordinate_points(img_size)\n",
    "    M, Minv = get_perspective_transform(src_points, dst_points)\n",
    "    result_4 = apply_perspective_transform(M, result_3)\n",
    "        \n",
    "    return result_4   "
   ]
  },
  {
   "cell_type": "code",
   "execution_count": null,
   "metadata": {
    "collapsed": false,
    "deletable": true,
    "editable": true
   },
   "outputs": [],
   "source": [
    "\"\"\"\n",
    "    Test pipeline_3 function\n",
    "\"\"\"\n",
    "\n",
    "for img_file in img_files:\n",
    "    img = mpimg.imread(img_file) \n",
    "    result = pipeline_3(img)\n",
    "\n",
    "    #Display the images\n",
    "    f, (ax1, ax2) = plt.subplots(1, 2, figsize=(24, 9))\n",
    "    f.tight_layout()\n",
    "    ax1.imshow(img)\n",
    "    ax1.set_title('Original Image', fontsize=40)\n",
    "    ax2.imshow(result, cmap='gray')\n",
    "    ax2.set_title('Pipeline_3 Result', fontsize=40)"
   ]
  },
  {
   "cell_type": "code",
   "execution_count": 10,
   "metadata": {
    "collapsed": false,
    "deletable": true,
    "editable": true
   },
   "outputs": [],
   "source": [
    "\"\"\"\n",
    "    STEP 6: DETECT LANE POINTS.\n",
    "\"\"\"\n",
    "\n",
    "\"\"\"\n",
    "    Figure out the lane points by the following:\n",
    "    a. Applying histogram on bottom half of the image.\n",
    "    b. Detecting the left and right peak points.\n",
    "    c. Divide the image into 10 horizontal patches.\n",
    "    d. Using the peak points from (b) as center of a\n",
    "       search window for the bottom most patch,\n",
    "       find the peak points in the next upper patch.\n",
    "    e. Repeat (d) for all the patches. \n",
    "    \n",
    "    The above steps have to applied twice, for \n",
    "    left lane and right lane detection.\n",
    "\"\"\"\n",
    "def find_left_right_points(img, patch_top, patch_bottom):    \n",
    "    histogram = np.mean(img[patch_top:patch_bottom,:], axis=0)\n",
    "    filtered = scipy.ndimage.filters.gaussian_filter1d(histogram,20)\n",
    "    filtered_norm = filtered       \n",
    "    indexes = find_peaks_cwt(filtered_norm, [100], max_distances=[800])\n",
    "    #if (DEBUG == 1):\n",
    "     #   print(len(indexes)) \n",
    "    \n",
    "    if (len(indexes) <= 1):\n",
    "       # if (DEBUG == 1):\n",
    "       #     print('Could not locate two peak points for lanes')\n",
    "        return -1, -1\n",
    "        \n",
    "    value_at_indices = np.array([filtered_norm[indexes[i]] for i in range(len(indexes))])\n",
    "          \n",
    "    #Choose the top two values for the left and right lane indices.\n",
    "    sorted_values  = np.argsort(-value_at_indices)\n",
    "    left_peak_idx  = indexes[sorted_values[0]] \n",
    "    right_peak_idx = indexes[sorted_values[1]] \n",
    "    \n",
    "    #Swap left and right, if indices' values are mismatching\n",
    "    if (left_peak_idx > right_peak_idx):\n",
    "        tmp_idx        = left_peak_idx\n",
    "        left_peak_idx  = right_peak_idx\n",
    "        right_peak_idx = tmp_idx  \n",
    "    \n",
    "   # if (DEBUG == 1):\n",
    "   #  print(left_peak_idx, right_peak_idx) \n",
    "    \n",
    "    return left_peak_idx, right_peak_idx\n",
    "    \n",
    "\"\"\"\n",
    "    Function to determine lane points for all the\n",
    "    horizontal patches.\n",
    "\"\"\"\n",
    "def find_lane_points(img):\n",
    "    patch_top    = int(img.shape[0]/2)\n",
    "    patch_bottom = img.shape[0]\n",
    "    left_peak_idx, right_peak_idx = find_left_right_points(img, patch_top, patch_bottom)\n",
    "    if (left_peak_idx == -1):\n",
    "        print('Error in the histogram peak points!!!')\n",
    "    \n",
    "    #if (DEBUG == 1):\n",
    "     #   print('find_left_right_points: 0')\n",
    "        \n",
    "    \n",
    "    prev_left_peak_idx  = left_peak_idx\n",
    "    prev_right_peak_idx = right_peak_idx\n",
    "    img_patch_height = img.shape[0]/NUM_PATCHES\n",
    "    \n",
    "    left_mask = np.zeros_like(img)\n",
    "    right_mask = np.zeros_like(img)\n",
    "    \n",
    "    for i in range(NUM_PATCHES):\n",
    "        patch_bottom = int(img.shape[0]-(i*img_patch_height))\n",
    "        patch_top = int(img.shape[0]-((i+1)*img_patch_height))\n",
    "        #print(i, patch_top, patch_bottom)\n",
    "        \n",
    "        #if (DEBUG == 1):\n",
    "         #   print('find_left_right_points: ', i)\n",
    "        \n",
    "        left_peak_idx, right_peak_idx = find_left_right_points(img, patch_top, patch_bottom)\n",
    "        \n",
    "        if (left_peak_idx == -1):\n",
    "            left_peak_idx  = prev_left_peak_idx\n",
    "            right_peak_idx = prev_right_peak_idx\n",
    "            \n",
    "            \n",
    "        if np.abs(left_peak_idx-prev_left_peak_idx)>=2*WINDOW_SIZE:\n",
    "            left_peak_idx = prev_left_peak_idx\n",
    "        if np.abs(right_peak_idx-prev_right_peak_idx)>=2*WINDOW_SIZE:\n",
    "            right_peak_idx = prev_right_peak_idx\n",
    "           \n",
    "        #if (DEBUG == 1):\n",
    "         #   print('left:', (left_peak_idx-WINDOW_SIZE), (left_peak_idx+WINDOW_SIZE))\n",
    "         #   print('right:', (right_peak_idx-WINDOW_SIZE), (right_peak_idx+WINDOW_SIZE))\n",
    "            \n",
    "        left_mask[patch_top:patch_bottom,left_peak_idx-WINDOW_SIZE:left_peak_idx+WINDOW_SIZE] = 1.     \n",
    "        right_mask[patch_top:patch_bottom,right_peak_idx-WINDOW_SIZE:right_peak_idx+WINDOW_SIZE] = 1. \n",
    "        \n",
    "    return left_mask, right_mask        "
   ]
  },
  {
   "cell_type": "code",
   "execution_count": null,
   "metadata": {
    "collapsed": false,
    "deletable": true,
    "editable": true
   },
   "outputs": [],
   "source": [
    "\"\"\"\n",
    "    Test the \"Find lane points\"\n",
    "\"\"\"\n",
    "\n",
    "for img_file in img_files:\n",
    "    img = mpimg.imread(img_file) \n",
    "    result = pipeline_3(img)\n",
    "    left_mask, right_mask = find_lane_points(result)\n",
    "    \n",
    "    #Display the images\n",
    "    f, (ax1, ax2) = plt.subplots(1, 2, figsize=(24, 9))\n",
    "    f.tight_layout()\n",
    "    ax1.imshow(left_mask+right_mask)\n",
    "    ax1.set_title('Masked Image', fontsize=40)\n",
    "    ax2.imshow(cv2.bitwise_and(result,result,mask=right_mask+left_mask), cmap='gray')\n",
    "    ax2.set_title('Pipeline_3 Result', fontsize=40)    "
   ]
  },
  {
   "cell_type": "code",
   "execution_count": 11,
   "metadata": {
    "collapsed": false,
    "deletable": true,
    "editable": true
   },
   "outputs": [],
   "source": [
    "\"\"\"\n",
    "    STEP 7: POLYNOMIAL FIT TO LANE POINTS.\n",
    "\"\"\"\n",
    "\n",
    "\"\"\"\n",
    "   Fit a quadratic polynomial for the given set of points\n",
    "   The polynomial will be of the form, x = A*y^2 + B*y + C\n",
    "   Arguments:\n",
    "   all_y: Set of y values.\n",
    "   all_x: Set of x values.\n",
    "   returns [A, B, C]\n",
    "\"\"\"\n",
    "def fit_quadratic_poly(all_y, all_x):\n",
    "    fit_coeffs = np.polyfit(all_y, all_x, 2)\n",
    "    return fit_coeffs\n",
    "\n",
    "\"\"\"\n",
    "    In the next step of pipeline, we fit two quadratic polynomials,\n",
    "    one for left and one for right lane. \n",
    "    Note, the independent variable is the y-axis(vertical).\n",
    "\"\"\" \n",
    "def fit_poly(img, img_L, img_R, scaleX, scaleY):\n",
    "    img_size = img.shape\n",
    "    status_l = 0\n",
    "    status_r = 0\n",
    "        \n",
    "    vals = np.argwhere(img_L>.5)\n",
    "    if (len(vals) < MIN_POINTS):\n",
    "        status_l = -1\n",
    "        left_fit_coeffs = -1\n",
    "    else:\n",
    "        all_y = vals.T[0] * scaleY\n",
    "        all_x = vals.T[1] * scaleX\n",
    "        left_fit_coeffs = fit_quadratic_poly(all_y, all_x)\n",
    "    \n",
    "    vals = np.argwhere(img_R>.5)\n",
    "    if (len(vals) < MIN_POINTS):\n",
    "        status_r = -1\n",
    "        right_fit_coeffs = -1\n",
    "    else:\n",
    "        all_y = vals.T[0] * scaleY\n",
    "        all_x =vals.T[1] * scaleX\n",
    "        right_fit_coeffs = fit_quadratic_poly(all_y, all_x)\n",
    "\n",
    "    return left_fit_coeffs, right_fit_coeffs, status_l, status_r"
   ]
  },
  {
   "cell_type": "code",
   "execution_count": null,
   "metadata": {
    "collapsed": false,
    "deletable": true,
    "editable": true
   },
   "outputs": [],
   "source": [
    "\"\"\"\n",
    "    Test: Isolate left and right lane lines\n",
    "\"\"\"\n",
    "\n",
    "for img_file in img_files:\n",
    "    img = mpimg.imread(img_file) \n",
    "    result = pipeline_3(img)\n",
    "    left_mask, right_mask = find_lane_points(result)\n",
    "    \n",
    "    \n",
    "    img_L = np.copy(result)\n",
    "    img_L = cv2.bitwise_and(img_L,img_L,mask=left_mask)\n",
    "\n",
    "    img_R = np.copy(result)\n",
    "    img_R = cv2.bitwise_and(img_R,img_R,mask=right_mask)\n",
    "    \n",
    "    #Display the images\n",
    "    f, (ax1, ax2) = plt.subplots(1, 2, figsize=(24, 9))\n",
    "    f.tight_layout()    \n",
    "    ax1.imshow(img_L, cmap='gray')\n",
    "    ax1.set_title('Left lane markings', fontsize=40)\n",
    "\n",
    "    ax2.imshow(img_R, cmap='gray')\n",
    "    ax2.set_title('Right lane markings', fontsize=40)"
   ]
  },
  {
   "cell_type": "code",
   "execution_count": null,
   "metadata": {
    "collapsed": false,
    "deletable": true,
    "editable": true
   },
   "outputs": [],
   "source": [
    "\"\"\"\n",
    "    Test polynomial fit\n",
    "\"\"\"\n",
    "\n",
    "for img_file in img_files:\n",
    "    img = mpimg.imread(img_file) \n",
    "    img_size = img.shape\n",
    "    left_fit_coeffs, right_fit_coeffs, status_l, status_r = fit_poly(img, img_L, img_R, 1, 1)\n",
    "    if (status_l == 0):\n",
    "        left_y = np.arange(11)*img_size[0]/10\n",
    "        left_fitx = left_fit_coeffs[0]*left_y**2 + left_fit_coeffs[1]*left_y + left_fit_coeffs[2]\n",
    "    if (status_r == 0):\n",
    "        right_y = np.arange(11)*img_size[0]/10\n",
    "        right_fitx = right_fit_coeffs[0]*right_y**2 + right_fit_coeffs[1]*right_y + right_fit_coeffs[2]    \n",
    "\n",
    "    #Display the images\n",
    "    f, (ax1, ax2) = plt.subplots(1, 2, figsize=(24, 9))\n",
    "    f.tight_layout()\n",
    "    ax1.imshow(img_L, cmap='gray')\n",
    "    ax1.plot( left_fitx,left_y,'red',linewidth=2)\n",
    "    ax1.set_title('Left polynomial', fontsize=40)\n",
    "    ax2.imshow(img_R, cmap='gray')\n",
    "    ax2.plot( right_fitx,right_y,'r',linewidth=2)\n",
    "    ax2.set_title('Right polynomial', fontsize=40)    "
   ]
  },
  {
   "cell_type": "code",
   "execution_count": 12,
   "metadata": {
    "collapsed": true
   },
   "outputs": [],
   "source": [
    "\"\"\"\n",
    "    STEP 8: RADIUS OF CURVATURE AND LANE DEVIATION.\n",
    "\"\"\"\n",
    "\n",
    "\"\"\"\n",
    "    Calculate the radius of curvature of the quadratic polynomial at the given point\n",
    "    Refer to http://www.intmath.com/applications-differentiation/8-radius-curvature.php for a good explanation.\n",
    "    Arguments:\n",
    "    pCoeffs: The quadratic polynomial coeffients (In the form [A, B, C] for A*x^2 + B*x + C)\n",
    "    pt: The point where radius of curvature has to be evaluated.  \n",
    "\"\"\"\n",
    "def get_radius_of_curvature(pCoeffs, pt):\n",
    "    A = pCoeffs[0]\n",
    "    B = pCoeffs[1]\n",
    "    r_curve = (1+(2*A*pt+B)**2)**1.5/(2*A)\n",
    "    return r_curve\n",
    "\n",
    "\"\"\"\n",
    "    Calculate the offset from lane center.\n",
    "\"\"\"\n",
    "def calc_lane_offset(img_size, left_fit_coeffs, right_fit_coeffs, XM_PER_PIX):\n",
    "    pt = img_size[0]\n",
    "    left_fitx  = left_fit_coeffs[0]*pt**2 + left_fit_coeffs[1]*pt + left_fit_coeffs[2] \n",
    "    right_fitx = right_fit_coeffs[0]*pt**2 + right_fit_coeffs[1]*pt + right_fit_coeffs[2] \n",
    "    lane_midx  = (right_fitx + left_fitx)/2\n",
    "    img_midx   = img_size[1]/2\n",
    "    lane_offset  = (abs(lane_midx - img_midx)) * XM_PER_PIX\n",
    "    \n",
    "    return lane_offset   "
   ]
  },
  {
   "cell_type": "code",
   "execution_count": 13,
   "metadata": {
    "collapsed": true
   },
   "outputs": [],
   "source": [
    "\"\"\"\n",
    "   Helper function: Draws the set of lines on the \n",
    "   detected left lane and the right lane.\n",
    "\"\"\"\n",
    "def draw_pw_lines(img,pts,color):\n",
    "    # draw lines\n",
    "    pts = np.int_(pts)\n",
    "    for i in range(10):\n",
    "        x1 = pts[0][i][0]\n",
    "        y1 = pts[0][i][1]\n",
    "        x2 = pts[0][i+1][0]\n",
    "        y2 = pts[0][i+1][1]\n",
    "        cv2.line(img, (x1, y1), (x2, y2),color,50)"
   ]
  },
  {
   "cell_type": "code",
   "execution_count": null,
   "metadata": {
    "collapsed": false,
    "deletable": true,
    "editable": true
   },
   "outputs": [],
   "source": [
    "\"\"\"\n",
    "    FINAL PIPELINE\n",
    "    This pipeline consists of:\n",
    "    camera calibration => undistortion => Binary_Threshold => ROI =>\n",
    "          Perspective_transform => Find lane lines => Fit polynomial =>\n",
    "          Radius of curvature => Draw output image.\n",
    "\"\"\"\n",
    "\n",
    "\n",
    "        \n",
    "def pipeline(img):\n",
    "    img_size = img.shape\n",
    "    \n",
    "    mtx, dist = fetch_cam_calib_params()\n",
    "    result_1 = undistort_img(mtx, dist, img)\n",
    "    \n",
    "    #Pipeline_1\n",
    "    result_2 = threshold_image(result_1)\n",
    "    result_3 = region_of_interest(result_2)\n",
    "    src_points, dst_points = get_perspective_cordinate_points(img_size)\n",
    "    M, Minv = get_perspective_transform(src_points, dst_points)\n",
    "    result_4 = apply_perspective_transform(M, result_3)\n",
    "       \n",
    "    left_mask, right_mask = find_lane_points(result_4)\n",
    "    \n",
    "    img_L = np.copy(result_4)\n",
    "    img_L = cv2.bitwise_and(img_L,img_L,mask=left_mask)\n",
    "\n",
    "    img_R = np.copy(result_4)\n",
    "    img_R = cv2.bitwise_and(img_R,img_R,mask=right_mask)\n",
    "    \n",
    "    left_fit_coeffs, right_fit_coeffs, status_l, status_r = fit_poly(result_4, img_L, img_R, 1, 1)\n",
    "    left_y = np.arange(11)*img_size[0]/10\n",
    "    left_fitx = left_fit_coeffs[0]*left_y**2 + left_fit_coeffs[1]*left_y + left_fit_coeffs[2]\n",
    "    right_y = np.arange(11)*img_size[0]/10\n",
    "    right_fitx = right_fit_coeffs[0]*right_y**2 + right_fit_coeffs[1]*right_y + right_fit_coeffs[2]    \n",
    "    \n",
    "    #Calculate radius of curvature\n",
    "    YM_PER_PIX = HEIGHT_IN_MTS/img_size[0] # meters per pixel in y dimension\n",
    "    XM_PER_PIX = WIDTH_IN_MTS/img_size[1] # meteres per pixel in x dimension\n",
    "    left_fit_cr, right_fit_cr, status_l, status_r = fit_poly(result_4, img_L, img_R, XM_PER_PIX, YM_PER_PIX)\n",
    "    pt = HEIGHT_IN_MTS\n",
    "    left_curve_rad = get_radius_of_curvature(left_fit_cr, pt)\n",
    "    right_curve_rad = get_radius_of_curvature(right_fit_cr, pt)\n",
    "    \n",
    "    #Calculate lane offset\n",
    "    lane_offset = calc_lane_offset(img_size, left_fit_coeffs, right_fit_coeffs, XM_PER_PIX)\n",
    "    \n",
    "    warp_zero = np.zeros_like(result_4).astype(np.uint8)\n",
    "    color_warp = np.dstack((warp_zero, warp_zero, warp_zero))\n",
    "\n",
    "    # Recast the x and y points into usable format for cv2.fillPoly()\n",
    "    pts_left = np.array([np.transpose(np.vstack([left_fitx, left_y]))])\n",
    "    pts_right = np.array([np.flipud(np.transpose(np.vstack([right_fitx, right_y])))])\n",
    "    pts = np.hstack((pts_left, pts_right))\n",
    "\n",
    "    cv2.fillPoly(color_warp, np.int_([pts]), (0,255, 255))\n",
    "\n",
    "    col_L = (255,255,0)\n",
    "    col_R = (255,255,255)    \n",
    "\n",
    "    draw_pw_lines(color_warp,np.int_(pts_left),col_L)\n",
    "    draw_pw_lines(color_warp,np.int_(pts_right),col_R)\n",
    "\n",
    "    #Calculate inverse perspective transform\n",
    "    image_ud = result_1\n",
    "    #M, Minv = get_perspective_transform(src_points, dst_points)\n",
    "    newwarp = cv2.warpPerspective(color_warp, Minv, (img.shape[1], img.shape[0])) \n",
    "\n",
    "    result = cv2.addWeighted(image_ud, 1, newwarp, 0.5, 0)\n",
    "    \n",
    "    #Add radius of curvature text\n",
    "    str_curv = 'Curvature: Right = ' + str(np.round(right_curve_rad,2)) + 'm, Left = ' + str(np.round(left_curve_rad,2)) + 'm'\n",
    "    lane_dev = 'Lane Deviation = ' + str(np.round(lane_offset, 2)) + 'm'\n",
    "    font = cv2.FONT_HERSHEY_COMPLEX    \n",
    "    cv2.putText(result, str_curv, (30, 60), font, 1, (255,0,0), 2)\n",
    "    cv2.putText(result, lane_dev, (30, 100), font, 1, (255,0,0), 2)\n",
    "        \n",
    "    return result\n",
    "    "
   ]
  },
  {
   "cell_type": "code",
   "execution_count": null,
   "metadata": {
    "collapsed": false,
    "deletable": true,
    "editable": true
   },
   "outputs": [],
   "source": [
    "\"\"\"\n",
    "    Test final pipeline\n",
    "\"\"\"\n",
    "for img_file in img_files:\n",
    "    print('Processing:', img_file)\n",
    "    img = mpimg.imread(img_file) \n",
    "    result = pipeline(img)\n",
    "    \n",
    "    #Display the images\n",
    "    f, (ax1, ax2) = plt.subplots(1, 2, figsize=(24, 9))\n",
    "    f.tight_layout()\n",
    "    ax1.imshow(img)\n",
    "    ax1.set_title(img_file, fontsize=30)\n",
    "    ax2.imshow(result)\n",
    "    ax2.set_title('Lane markings', fontsize=40) "
   ]
  },
  {
   "cell_type": "code",
   "execution_count": 16,
   "metadata": {
    "collapsed": false
   },
   "outputs": [],
   "source": [
    "\"\"\"\n",
    "    VIDEO PIPELINE : The pipeline is almost similar for proecessing frames in a video.\n",
    "                     One difference is that we exploit the temporal similarity of\n",
    "                     frames in a video and make use of the peaks detected from previous\n",
    "                     frame for processing current frame. This will speed up the processing.\n",
    "\"\"\"\n",
    "\n",
    "\"\"\"\n",
    "    Prepare the mask for the next frame, based on current frame peak locations.\n",
    "\"\"\"\n",
    "def fill_masks_next_frame(img, left_poly_coeffs, right_poly_coeffs):\n",
    "    img_patch_height = img.shape[0]/NUM_PATCHES\n",
    "    left_mask = np.zeros_like(img)\n",
    "    right_mask = np.zeros_like(img)\n",
    "    \n",
    "    for i in range(NUM_PATCHES):\n",
    "        patch_bottom = int(img.shape[0]-(i*img_patch_height))\n",
    "        patch_top = int(img.shape[0]-((i+1)*img_patch_height))\n",
    "        pt_mid = (patch_top + patch_bottom)/2\n",
    "        \n",
    "        left_poly_pt = np.round(left_poly_coeffs[0]*pt_mid**2 + left_poly_coeffs[1]*pt_mid + left_poly_coeffs[2])\n",
    "        right_poly_pt = np.round(right_poly_coeffs[0]*pt_mid**2 + right_poly_coeffs[1]*pt_mid + right_poly_coeffs[2])\n",
    "                          \n",
    "        left_mask[patch_top:patch_bottom, left_poly_pt-WINDOW_SIZE:left_poly_pt+WINDOW_SIZE] = 1.     \n",
    "        right_mask[patch_top:patch_bottom, right_poly_pt-WINDOW_SIZE:right_poly_pt+WINDOW_SIZE] = 1. \n",
    "        \n",
    "    return left_mask, right_mask   \n",
    "\n",
    "\"\"\"\n",
    "    Check the absolute difference between polynomial coefficients\n",
    "    from two successive frames. If it is greater than a threshold,\n",
    "    retain the coeffient values from the previous frame.\n",
    "\"\"\"\n",
    "def poly_coeffs_diff(poly, prev_poly):\n",
    "    err_p = np.sum((poly[0]-prev_poly[0])**2) #/np.sum(right_fit_prev[0]**2)\n",
    "    err_p = np.sqrt(err_p)\n",
    "    \n",
    "    if err_p>COEFFS_DIFFS:\n",
    "        return 1\n",
    "    else:\n",
    "        return 0\n",
    "    \n",
    "\"\"\"\n",
    "Checks the similarity between succesive polygons\n",
    "\"\"\"\n",
    "def check_poly_similarity(poly1, poly2):\n",
    "    ret, thresh = cv2.threshold(poly1, 127, 255,0)\n",
    "    ret, thresh2 = cv2.threshold(poly2, 127, 255,0)\n",
    "    \n",
    "    im2, contours, hierarchy = cv2.findContours(thresh,cv2.RETR_TREE,cv2.CHAIN_APPROX_SIMPLE)\n",
    "    cnt1 = contours[0]\n",
    " \n",
    "    im2, contours, hierarchy = cv2.findContours(thresh2,cv2.RETR_TREE,cv2.CHAIN_APPROX_SIMPLE)\n",
    "    cnt2 = contours[0]\n",
    "    ret = cv2.matchShapes(cnt1,cnt2,1,0.0)\n",
    "    \n",
    "    return ret\n",
    "    \n",
    "\"\"\"\n",
    "    FINAL PIPELINE FOR VIDEO\n",
    "    This pipeline consists of camera calibration -> undistortion -> Binary_Threshold -> Perspective_transform ->\n",
    "     -> Find lane lines -> Fit polynomial\n",
    "\"\"\"\n",
    "\n",
    "alpha = 0.05\n",
    "def video_pipeline(img):\n",
    "    global left_mask\n",
    "    global right_mask\n",
    "    global left_fit_coeffs_prev\n",
    "    global right_fit_coeffs_prev\n",
    "    global left_curve_rad_prev\n",
    "    global right_curve_rad_prev\n",
    "    global lane_offset_prev\n",
    "    global first_frame\n",
    "    global mtx\n",
    "    global dist\n",
    "    global prev_white_warp\n",
    "    global prev_color_warp\n",
    "    \n",
    "    if (DEBUG ==1):\n",
    "        global frame_cnt\n",
    "    \n",
    "    if (DEBUG == 1):\n",
    "        frame_cnt = frame_cnt + 1\n",
    "        #if ((frame_cnt < 1000) or (frame_cnt > 1060)):\n",
    "        #if ((frame_cnt < 15) or (frame_cnt > 35)):\n",
    "        #str_curv = 'Frame num ' + str(frame_cnt) \n",
    "        #font = cv2.FONT_HERSHEY_COMPLEX    \n",
    "        #cv2.putText(img, str_curv, (30, 150), font, 1, (255,0,0), 2)\n",
    "        #return img \n",
    "    \n",
    "    img_size = img.shape\n",
    "    \n",
    "    if (first_frame == 1):\n",
    "        mtx, dist = fetch_cam_calib_params()\n",
    "        \n",
    "    result_1 = undistort_img(mtx, dist, img)\n",
    "     \n",
    "    result_2 = threshold_image(result_1)\n",
    "    result_3 = region_of_interest(result_2)\n",
    "    src_points, dst_points = get_perspective_cordinate_points(img_size)\n",
    "    M, Minv = get_perspective_transform(src_points, dst_points)\n",
    "    result_4 = apply_perspective_transform(M, result_3)\n",
    "        \n",
    "    if (first_frame == 1):\n",
    "        left_mask, right_mask = find_lane_points(result_4)\n",
    "    \n",
    "    img_L = np.copy(result_4)\n",
    "    img_L = cv2.bitwise_and(img_L,img_L,mask=left_mask)\n",
    "\n",
    "    img_R = np.copy(result_4)\n",
    "    img_R = cv2.bitwise_and(img_R,img_R,mask=right_mask)\n",
    "    \n",
    "    \"\"\"\n",
    "        Note: There is an assumption here that the first frame will be successfully \n",
    "              detected for lane lines.\n",
    "    \"\"\"\n",
    "    left_fit_coeffs, right_fit_coeffs, status_l, status_r = fit_poly(result_4, img_L, img_R, 1, 1)\n",
    "        \n",
    "    if (status_l == -1):\n",
    "        left_fit_coeffs  = left_fit_coeffs_prev\n",
    "        left_str = [-111, -111, -111]\n",
    "    else:\n",
    "        left_str = left_fit_coeffs\n",
    "    if (status_r == -1):\n",
    "        right_fit_coeffs = right_fit_coeffs_prev\n",
    "        right_str = [-111, -111, -111]\n",
    "    else:\n",
    "        right_str = right_fit_coeffs\n",
    "    \n",
    "    \n",
    "    if (first_frame == 1):\n",
    "        left_fit_coeffs_prev = left_fit_coeffs\n",
    "        right_fit_coeffs_prev = right_fit_coeffs\n",
    "        left_curve_rad_prev = 0\n",
    "        right_curve_rad_prev = 0\n",
    "        lane_offset_prev = 0\n",
    "        #first_frame = 0\n",
    "        \n",
    "    left_diff = poly_coeffs_diff(left_fit_coeffs, left_fit_coeffs_prev) \n",
    "    if (left_diff == 1):\n",
    "        print('left_coeffs differ', frame_cnt)\n",
    "        left_fit_coeffs = left_fit_coeffs_prev\n",
    "    else:\n",
    "        left_fit_coeffs = alpha*left_fit_coeffs + (1-alpha)*left_fit_coeffs_prev\n",
    "        \n",
    "    right_diff = poly_coeffs_diff(right_fit_coeffs, right_fit_coeffs_prev) \n",
    "    if (right_diff == 1):\n",
    "        print('right_coeffs differ', frame_cnt)\n",
    "        right_fit_coeffs = right_fit_coeffs_prev\n",
    "    else:\n",
    "        right_fit_coeffs = alpha*right_fit_coeffs + (1-alpha)*right_fit_coeffs_prev\n",
    "        \n",
    "    \n",
    "    left_y = np.arange(11)*img_size[0]/10\n",
    "    left_fitx = left_fit_coeffs[0]*left_y**2 + left_fit_coeffs[1]*left_y + left_fit_coeffs[2]\n",
    "    right_y = np.arange(11)*img_size[0]/10\n",
    "    right_fitx = right_fit_coeffs[0]*right_y**2 + right_fit_coeffs[1]*right_y + right_fit_coeffs[2] \n",
    "        \n",
    "    #Fill masks for the next frame. \n",
    "    left_mask, right_mask = fill_masks_next_frame(result_4, left_fit_coeffs, right_fit_coeffs)\n",
    "    \n",
    "    #Calculate radius of curvature\n",
    "    YM_PER_PIX = HEIGHT_IN_MTS/img_size[0] # meters per pixel in y dimension\n",
    "    XM_PER_PIX = WIDTH_IN_MTS/img_size[1] # meteres per pixel in x dimension\n",
    "    left_fit_cr, right_fit_cr, status_l, status_r = fit_poly(result_4, img_L, img_R, XM_PER_PIX, YM_PER_PIX)\n",
    "    if (status_l == -1):\n",
    "        left_curve_rad  = left_curve_rad_prev\n",
    "    else:\n",
    "        pt = HEIGHT_IN_MTS\n",
    "        left_curve_rad = get_radius_of_curvature(left_fit_cr, pt)\n",
    "        \n",
    "        \n",
    "    if (status_r == -1):\n",
    "        right_curve_rad = right_curve_rad_prev\n",
    "    else:\n",
    "        pt = HEIGHT_IN_MTS\n",
    "        right_curve_rad = get_radius_of_curvature(right_fit_cr, pt)\n",
    "        \n",
    "    lane_offset = calc_lane_offset(img_size, left_fit_coeffs, right_fit_coeffs, XM_PER_PIX)\n",
    "          \n",
    "    \n",
    "    warp_zero = np.zeros_like(result_4).astype(np.uint8)\n",
    "    color_warp = np.dstack((warp_zero, warp_zero, warp_zero))\n",
    "    white_warp = np.zeros_like(result_4).astype(np.uint8)\n",
    "\n",
    "    # Recast the x and y points into usable format for cv2.fillPoly()\n",
    "    pts_left = np.array([np.transpose(np.vstack([left_fitx, left_y]))])\n",
    "    pts_right = np.array([np.flipud(np.transpose(np.vstack([right_fitx, right_y])))])\n",
    "    pts = np.hstack((pts_left, pts_right))\n",
    "\n",
    "    cv2.fillPoly(color_warp, np.int_([pts]), (0,255, 255))\n",
    "    cv2.fillPoly(white_warp, np.int_([pts]), (255))\n",
    "\n",
    "    col_L = (255,255,0)\n",
    "    col_R = (255,255,255)    \n",
    "\n",
    "    draw_pw_lines(color_warp,np.int_(pts_left),col_L)\n",
    "    draw_pw_lines(color_warp,np.int_(pts_right),col_R)\n",
    "\n",
    "    \n",
    "    image_ud = result_1\n",
    "    newwarp = cv2.warpPerspective(color_warp, Minv, (img.shape[1], img.shape[0])) \n",
    "    new_white_warp = cv2.warpPerspective(white_warp, Minv, (img.shape[1], img.shape[0])) \n",
    "    \n",
    "    if (first_frame == 1):\n",
    "        prev_white_warp = new_white_warp\n",
    "        prev_color_warp = newwarp\n",
    "        diff_shape = 0\n",
    "        first_frame = 0\n",
    "    else :\n",
    "        diff_shape = check_poly_similarity(prev_white_warp, new_white_warp)\n",
    "        if (diff_shape > SHAPE_THRESH):\n",
    "            #newwarp = prev_color_warp\n",
    "            print('diff shape')\n",
    "        else:\n",
    "            prev_white_warp = new_white_warp\n",
    "            prev_color_warp = newwarp   \n",
    "        \n",
    "    left_fit_coeffs_prev = left_fit_coeffs\n",
    "    right_fit_coeffs_prev = right_fit_coeffs\n",
    "    \n",
    "    result = cv2.addWeighted(image_ud, 1, newwarp, 0.5, 0)\n",
    "    \n",
    "    #Add radius of curvature text\n",
    "    str_curv = 'Curvature: Right = ' + str(np.round(right_curve_rad,2)) + 'm, Left = ' + str(np.round(left_curve_rad,2)) + 'm'\n",
    "    lane_dev = 'Lane Deviation = ' + str(np.round(lane_offset, 2)) + 'm'\n",
    "    #diff_shape = 'shape_diff = ' + str(diff_shape)\n",
    "    #str_frame_num = 'frame ' + str(frame_cnt)\n",
    "    #left_coeff_str = 'lf: ' + str(left_str[0]) + '  ' + str(left_str[1]) + '  ' + str(left_str[2]) \n",
    "    #right_coeff_str = 'rt: ' + str(right_str[0]) + '  ' + str(right_str[1]) + '  ' + str(right_str[2])\n",
    "    \n",
    "    font = cv2.FONT_HERSHEY_COMPLEX    \n",
    "    cv2.putText(result, str_curv, (30, 60), font, 1, (255,0,0), 2)\n",
    "    cv2.putText(result, lane_dev, (30, 100), font, 1, (255,0,0), 2)\n",
    "    #cv2.putText(result, diff_shape, (30, 140), font, 1, (255,0,0), 2)\n",
    "    #cv2.putText(result, str_frame_num, (30, 170), font, 1, (255,0,0), 2)\n",
    "    \n",
    "    #cv2.putText(result, left_coeff_str, (30, 200), font, 1, (255,0,0), 2)\n",
    "    #cv2.putText(result, right_coeff_str, (30, 230), font, 1, (255,0,0), 2)\n",
    "    \n",
    "        \n",
    "    return result\n",
    "    "
   ]
  },
  {
   "cell_type": "code",
   "execution_count": null,
   "metadata": {
    "collapsed": false,
    "scrolled": true
   },
   "outputs": [],
   "source": [
    "\"\"\"\n",
    "    DEBUG: Debug the review comment issues\n",
    "\"\"\"\n",
    "import glob\n",
    "import os\n",
    "img_files = sorted(glob.glob(\"./debug/v1-new/*.jpg\"))\n",
    "\n",
    "if (DEBUG == 1):\n",
    "    frame_cnt = 0\n",
    "first_frame = 1\n",
    "i = 0\n",
    "for img_file in img_files:\n",
    "    print(img_file)\n",
    "    print('Processing:', img_file)\n",
    "    img = mpimg.imread(img_file) \n",
    "    result = video_pipeline(img)\n",
    "    out_file = './debug/output/' + str(i) + '.jpg'\n",
    "    plt.imsave(out_file, result)\n",
    "    i = i + 1\n",
    "    \n",
    "    \n",
    "    #Display the images\n",
    "    #f, (ax1, ax2) = plt.subplots(1, 2, figsize=(24, 9))\n",
    "    #f.tight_layout()\n",
    "\n",
    "    #ax1.imshow(img)\n",
    "    #ax1.set_title(img_file, fontsize=30)\n",
    "\n",
    "    #ax2.imshow(result)\n",
    "    #ax2.set_title('Lane markings', fontsize=40)\n",
    "    "
   ]
  },
  {
   "cell_type": "code",
   "execution_count": 17,
   "metadata": {
    "collapsed": false
   },
   "outputs": [
    {
     "name": "stdout",
     "output_type": "stream",
     "text": [
      "Loading data from pickle file...\n",
      "Data loaded from pickle file.\n",
      "[MoviePy] >>>> Building video project_video_output_dbg.mp4\n",
      "[MoviePy] Writing video project_video_output_dbg.mp4\n"
     ]
    },
    {
     "name": "stderr",
     "output_type": "stream",
     "text": [
      " 48%|████▊     | 611/1261 [03:55<04:13,  2.57it/s]"
     ]
    },
    {
     "name": "stdout",
     "output_type": "stream",
     "text": [
      "right_coeffs differ 612\n"
     ]
    },
    {
     "name": "stderr",
     "output_type": "stream",
     "text": [
      "\r",
      " 49%|████▊     | 612/1261 [03:55<04:12,  2.57it/s]"
     ]
    },
    {
     "name": "stdout",
     "output_type": "stream",
     "text": [
      "right_coeffs differ 613\n"
     ]
    },
    {
     "name": "stderr",
     "output_type": "stream",
     "text": [
      "\r",
      " 49%|████▊     | 613/1261 [03:55<04:11,  2.57it/s]"
     ]
    },
    {
     "name": "stdout",
     "output_type": "stream",
     "text": [
      "right_coeffs differ 614\n"
     ]
    },
    {
     "name": "stderr",
     "output_type": "stream",
     "text": [
      "\r",
      " 49%|████▊     | 614/1261 [03:56<04:09,  2.60it/s]"
     ]
    },
    {
     "name": "stdout",
     "output_type": "stream",
     "text": [
      "right_coeffs differ 615\n"
     ]
    },
    {
     "name": "stderr",
     "output_type": "stream",
     "text": [
      "\r",
      " 49%|████▉     | 615/1261 [03:56<04:10,  2.58it/s]"
     ]
    },
    {
     "name": "stdout",
     "output_type": "stream",
     "text": [
      "right_coeffs differ 616\n"
     ]
    },
    {
     "name": "stderr",
     "output_type": "stream",
     "text": [
      "\r",
      " 49%|████▉     | 616/1261 [03:56<04:06,  2.61it/s]"
     ]
    },
    {
     "name": "stdout",
     "output_type": "stream",
     "text": [
      "right_coeffs differ 617\n"
     ]
    },
    {
     "name": "stderr",
     "output_type": "stream",
     "text": [
      " 49%|████▉     | 621/1261 [03:58<03:59,  2.67it/s]"
     ]
    },
    {
     "name": "stdout",
     "output_type": "stream",
     "text": [
      "right_coeffs differ 622\n"
     ]
    },
    {
     "name": "stderr",
     "output_type": "stream",
     "text": [
      "\r",
      " 49%|████▉     | 622/1261 [03:59<03:59,  2.67it/s]"
     ]
    },
    {
     "name": "stdout",
     "output_type": "stream",
     "text": [
      "right_coeffs differ 623\n"
     ]
    },
    {
     "name": "stderr",
     "output_type": "stream",
     "text": [
      "\r",
      " 49%|████▉     | 623/1261 [03:59<04:05,  2.60it/s]"
     ]
    },
    {
     "name": "stdout",
     "output_type": "stream",
     "text": [
      "right_coeffs differ 624\n"
     ]
    },
    {
     "name": "stderr",
     "output_type": "stream",
     "text": [
      "\r",
      " 49%|████▉     | 624/1261 [03:59<04:09,  2.55it/s]"
     ]
    },
    {
     "name": "stdout",
     "output_type": "stream",
     "text": [
      "right_coeffs differ 625\n"
     ]
    },
    {
     "name": "stderr",
     "output_type": "stream",
     "text": [
      "\r",
      " 50%|████▉     | 625/1261 [04:00<04:07,  2.57it/s]"
     ]
    },
    {
     "name": "stdout",
     "output_type": "stream",
     "text": [
      "right_coeffs differ 626\n"
     ]
    },
    {
     "name": "stderr",
     "output_type": "stream",
     "text": [
      "\r",
      " 50%|████▉     | 626/1261 [04:00<04:03,  2.61it/s]"
     ]
    },
    {
     "name": "stdout",
     "output_type": "stream",
     "text": [
      "right_coeffs differ 627\n"
     ]
    },
    {
     "name": "stderr",
     "output_type": "stream",
     "text": [
      "\r",
      " 50%|████▉     | 627/1261 [04:01<04:05,  2.58it/s]"
     ]
    },
    {
     "name": "stdout",
     "output_type": "stream",
     "text": [
      "right_coeffs differ 628\n"
     ]
    },
    {
     "name": "stderr",
     "output_type": "stream",
     "text": [
      " 50%|████▉     | 629/1261 [04:01<04:02,  2.61it/s]"
     ]
    },
    {
     "name": "stdout",
     "output_type": "stream",
     "text": [
      "right_coeffs differ 630\n"
     ]
    },
    {
     "name": "stderr",
     "output_type": "stream",
     "text": [
      " 82%|████████▏ | 1037/1261 [06:39<01:19,  2.83it/s]"
     ]
    },
    {
     "name": "stdout",
     "output_type": "stream",
     "text": [
      "right_coeffs differ 1038\n"
     ]
    },
    {
     "name": "stderr",
     "output_type": "stream",
     "text": [
      "\r",
      " 82%|████████▏ | 1038/1261 [06:39<01:21,  2.75it/s]"
     ]
    },
    {
     "name": "stdout",
     "output_type": "stream",
     "text": [
      "right_coeffs differ 1039\n"
     ]
    },
    {
     "name": "stderr",
     "output_type": "stream",
     "text": [
      "\r",
      " 82%|████████▏ | 1039/1261 [06:40<01:27,  2.54it/s]"
     ]
    },
    {
     "name": "stdout",
     "output_type": "stream",
     "text": [
      "right_coeffs differ 1040\n"
     ]
    },
    {
     "name": "stderr",
     "output_type": "stream",
     "text": [
      " 83%|████████▎ | 1041/1261 [06:40<01:28,  2.50it/s]"
     ]
    },
    {
     "name": "stdout",
     "output_type": "stream",
     "text": [
      "right_coeffs differ 1042\n"
     ]
    },
    {
     "name": "stderr",
     "output_type": "stream",
     "text": [
      " 84%|████████▎ | 1053/1261 [06:45<01:22,  2.51it/s]"
     ]
    },
    {
     "name": "stdout",
     "output_type": "stream",
     "text": [
      "right_coeffs differ 1054\n"
     ]
    },
    {
     "name": "stderr",
     "output_type": "stream",
     "text": [
      "100%|█████████▉| 1260/1261 [08:06<00:00,  2.56it/s]\n"
     ]
    },
    {
     "name": "stdout",
     "output_type": "stream",
     "text": [
      "[MoviePy] Done.\n",
      "[MoviePy] >>>> Video ready: project_video_output_dbg.mp4 \n",
      "\n",
      "CPU times: user 10min 29s, sys: 4min 15s, total: 14min 45s\n",
      "Wall time: 8min 7s\n",
      "Done\n"
     ]
    }
   ],
   "source": [
    "\"\"\"\n",
    "    TEST VIDEO PIPELINE\n",
    "\"\"\"\n",
    "from moviepy.editor import VideoFileClip\n",
    "from IPython.display import HTML\n",
    "\n",
    "if (DEBUG == 1):\n",
    "    frame_cnt = 0\n",
    "first_frame = 1\n",
    "project_output = 'project_video_output_dbg.mp4'\n",
    "clip1 = VideoFileClip(\"project_video.mp4\");\n",
    "white_clip = clip1.fl_image(video_pipeline) #NOTE: this function expects color images!!\n",
    "%time white_clip.write_videofile(project_output, audio=False);\n",
    "print('Done')"
   ]
  },
  {
   "cell_type": "code",
   "execution_count": null,
   "metadata": {
    "collapsed": true
   },
   "outputs": [],
   "source": []
  }
 ],
 "metadata": {
  "kernelspec": {
   "display_name": "Python 3",
   "language": "python",
   "name": "python3"
  },
  "language_info": {
   "codemirror_mode": {
    "name": "ipython",
    "version": 3
   },
   "file_extension": ".py",
   "mimetype": "text/x-python",
   "name": "python",
   "nbconvert_exporter": "python",
   "pygments_lexer": "ipython3",
   "version": "3.5.2"
  },
  "widgets": {
   "state": {},
   "version": "1.1.2"
  }
 },
 "nbformat": 4,
 "nbformat_minor": 2
}
